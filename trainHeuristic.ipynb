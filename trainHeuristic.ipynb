{
 "cells": [
  {
   "cell_type": "code",
   "execution_count": 139,
   "metadata": {},
   "outputs": [],
   "source": [
    "def switch_lines(line_out, line_in):\n",
    "    element_to_switch = line_out.pop()\n",
    "    line_in.append(element_to_switch)\n",
    "    return line_out, line_in\n",
    "\n",
    "def same_train(part1, part2):\n",
    "    return part1[0] == part2[0]\n",
    "\n",
    "def consecutive_parts(part1, part2):\n",
    "    print(part1[1],part2[1])\n",
    "    return int(part2[1]) == 1 + int(part1[1]) and part1[0] == part2[0]\n",
    "\n",
    "def remove_all_from_position(current_sy,line_to_remove,position,current_occupation,train_part_length,line_lengths):\n",
    "    parts_to_remove = current_sy[line_to_remove][position:]\n",
    "    total_length = 0\n",
    "    for item in parts_to_remove:\n",
    "        total_length += train_part_length[item]\n",
    "\n",
    "    has_moved = False\n",
    "    for line_index in range(len(current_sy)):\n",
    "        available_space = line_lengths[line_index] - current_occupation[line_index]\n",
    "        if total_length <= available_space and line_index != line_to_remove and not has_moved:\n",
    "            current_sy[line_index] = current_sy[line_index] + parts_to_remove\n",
    "            current_occupation[line_index] += total_length\n",
    "            has_moved = True\n",
    "    \n",
    "    current_sy[line_to_remove] = current_sy[line_to_remove][:position]\n",
    "    current_occupation[line_to_remove] -= total_length\n",
    "\n",
    "    return current_sy, current_occupation"
   ]
  },
  {
   "cell_type": "code",
   "execution_count": 140,
   "metadata": {},
   "outputs": [
    {
     "name": "stdout",
     "output_type": "stream",
     "text": [
      "2 3\n"
     ]
    },
    {
     "data": {
      "text/plain": [
       "True"
      ]
     },
     "execution_count": 140,
     "metadata": {},
     "output_type": "execute_result"
    }
   ],
   "source": [
    "consecutive_parts('A2', 'A3')"
   ]
  },
  {
   "cell_type": "code",
   "execution_count": 129,
   "metadata": {},
   "outputs": [
    {
     "data": {
      "text/plain": [
       "('C', ['A', 'B'], ['B'])"
      ]
     },
     "execution_count": 129,
     "metadata": {},
     "output_type": "execute_result"
    }
   ],
   "source": [
    "A = ['A', 'B', 'C']\n",
    "A.pop(), A, A[1:]"
   ]
  },
  {
   "cell_type": "code",
   "execution_count": 130,
   "metadata": {},
   "outputs": [
    {
     "data": {
      "text/plain": [
       "(['A1', 'A2', 'A3'], ['B1', 'B2', 'B3', 'A4'])"
      ]
     },
     "execution_count": 130,
     "metadata": {},
     "output_type": "execute_result"
    }
   ],
   "source": [
    "A = ['A1','A2','A3','A4']\n",
    "B = ['B1','B2','B3']\n",
    "A, B = switch_lines(A, B)\n",
    "A, B"
   ]
  },
  {
   "cell_type": "code",
   "execution_count": 131,
   "metadata": {},
   "outputs": [],
   "source": [
    "line_labels = ['L1','L2','L4','L6','L8','L10']\n",
    "line_lengths = [1457, 1394, 1107, 959, 591, 1031]"
   ]
  },
  {
   "cell_type": "code",
   "execution_count": 132,
   "metadata": {},
   "outputs": [
    {
     "data": {
      "text/plain": [
       "(False, True)"
      ]
     },
     "execution_count": 132,
     "metadata": {},
     "output_type": "execute_result"
    }
   ],
   "source": [
    "same_train('A1','B1'), same_train('A1','A2')"
   ]
  },
  {
   "cell_type": "code",
   "execution_count": 133,
   "metadata": {},
   "outputs": [
    {
     "data": {
      "text/plain": [
       "225"
      ]
     },
     "execution_count": 133,
     "metadata": {},
     "output_type": "execute_result"
    }
   ],
   "source": [
    "# Inclusão dos tamanhos dos trens\n",
    "\n",
    "line_occupation = []\n",
    "train_part_length = {}\n",
    "for item in A + B:\n",
    "    train_part_length[item] = 225\n",
    "\n",
    "train_part_length['A1']"
   ]
  },
  {
   "cell_type": "code",
   "execution_count": 143,
   "metadata": {},
   "outputs": [
    {
     "name": "stdout",
     "output_type": "stream",
     "text": [
      "['A1', 'B2']\n",
      "A1\n",
      "B2\n",
      "['A4', 'B3']\n",
      "A4\n",
      "B3\n",
      "['A3', 'A2']\n",
      "A3\n",
      "A2\n",
      "['B1']\n",
      "B1\n",
      "[]\n",
      "[]\n",
      "[450, 450, 450, 225, 0, 0]\n",
      "-----------------\n"
     ]
    }
   ],
   "source": [
    "desired_sy = [['A1','A2','A3','A4'],['B1','B2','B3'],[],[],[],[]]\n",
    "initial_sy = [['A1','B2'],['A4','B3'],['A3','A2'],['B1'],[],[]]\n",
    "current_sy = initial_sy.copy()\n",
    "\n",
    "current_occupation = [0, 0, 0, 0, 0, 0]\n",
    "\n",
    "for line_index in range(len(initial_sy)):\n",
    "    line = initial_sy[line_index]\n",
    "    print(line)\n",
    "    for train_part in line:\n",
    "        print(train_part)\n",
    "        current_occupation[line_index] += train_part_length[train_part]\n",
    "\n",
    "print(current_occupation)\n",
    "\n",
    "print('-----------------')"
   ]
  },
  {
   "cell_type": "code",
   "execution_count": 141,
   "metadata": {},
   "outputs": [
    {
     "name": "stdout",
     "output_type": "stream",
     "text": [
      "['A1', 'B2', 'A3', 'A2']\n",
      "1 2\n",
      "False\n",
      "1 2\n",
      "2 3\n",
      "False\n",
      "2 3\n",
      "3 2\n",
      "False\n",
      "3 2\n",
      "['A4', 'B3']\n",
      "4 3\n",
      "False\n",
      "4 3\n",
      "[]\n",
      "['B1']\n",
      "['A1', 'A2', 'A4', 'A3']\n",
      "1 2\n",
      "True\n",
      "1 2\n",
      "A1 A2 1\n",
      "2 4\n",
      "False\n",
      "2 4\n",
      "4 3\n",
      "False\n",
      "4 3\n",
      "['A2', 'A3']\n",
      "2 3\n",
      "True\n",
      "2 3\n",
      "A2 A3 1\n"
     ]
    }
   ],
   "source": [
    "line_to_search = 0\n",
    "length_search = 0\n",
    "greatest_length = 0\n",
    "\n",
    "for line in current_sy:\n",
    "    print(line)\n",
    "    line_extension = len(line)\n",
    "    for train_part_index in range(len(line)-1):\n",
    "        print(consecutive_parts(line[train_part_index],line[train_part_index+1]))\n",
    "        if consecutive_parts(line[train_part_index],line[train_part_index+1]):\n",
    "            length_search += 1\n",
    "            print(line[train_part_index],line[train_part_index+1], length_search)\n",
    "        else:\n",
    "            length_search = 0\n"
   ]
  },
  {
   "cell_type": "code",
   "execution_count": 136,
   "metadata": {},
   "outputs": [
    {
     "name": "stdout",
     "output_type": "stream",
     "text": [
      "['A1', 'B2', 'A3', 'A2']\n",
      "A1\n",
      "B2\n",
      "A3\n",
      "A2\n",
      "['A4', 'B3']\n",
      "A4\n",
      "B3\n",
      "[]\n",
      "['B1']\n",
      "B1\n",
      "['A1', 'A2', 'A4', 'A3']\n",
      "A1\n",
      "A2\n",
      "A4\n",
      "A3\n",
      "['A2', 'A3']\n",
      "A2\n",
      "A3\n"
     ]
    },
    {
     "data": {
      "text/plain": [
       "([['A1', 'B2', 'A3', 'A2'],\n",
       "  ['A4', 'B3'],\n",
       "  [],\n",
       "  ['B1'],\n",
       "  ['A1', 'A2', 'A4', 'A3'],\n",
       "  ['A2', 'A3']],\n",
       " [900, 450, 0, 225, 900, 450],\n",
       " [900, 450, 0, 225, 900, 450])"
      ]
     },
     "execution_count": 136,
     "metadata": {},
     "output_type": "execute_result"
    }
   ],
   "source": [
    "A, B = remove_all_from_position(current_sy,2,0,current_occupation,train_part_length,line_lengths)\n",
    "\n",
    "C = [0, 0, 0, 0, 0, 0]\n",
    "\n",
    "for line_index in range(len(A)):\n",
    "    line = A[line_index]\n",
    "    print(line)\n",
    "    for train_part in line:\n",
    "        print(train_part)\n",
    "        C[line_index] += train_part_length[train_part]\n",
    "\n",
    "A, B, C"
   ]
  },
  {
   "cell_type": "markdown",
   "metadata": {},
   "source": [
    "### Implementação da lógica"
   ]
  },
  {
   "cell_type": "code",
   "execution_count": 145,
   "metadata": {},
   "outputs": [
    {
     "name": "stdout",
     "output_type": "stream",
     "text": [
      "['A1', 'B2']\n",
      "A1\n",
      "B2\n",
      "['A4', 'B3']\n",
      "A4\n",
      "B3\n",
      "['A3', 'A2']\n",
      "A3\n",
      "A2\n",
      "['B1']\n",
      "B1\n",
      "[]\n",
      "[]\n"
     ]
    }
   ],
   "source": [
    "desired_sy = [['A1','A2','A3','A4'],['B1','B2','B3'],[],[],[],[]]\n",
    "initial_sy = [['A1','B2'],['A4','B3'],['A3','A2'],['B1'],[],[]]\n",
    "current_sy = initial_sy.copy()\n",
    "\n",
    "current_occupation = [0, 0, 0, 0, 0, 0]\n",
    "\n",
    "for line_index in range(len(initial_sy)):\n",
    "    line = initial_sy[line_index]\n",
    "   #print(line)\n",
    "    for train_part in line:\n",
    "        #print(train_part)\n",
    "        current_occupation[line_index] += train_part_length[train_part]\n",
    "\n",
    "if current_sy[0][0] != 'B2':\n",
    "    # Onde está o B2?\n",
    "    b2_line = 0\n",
    "    for line_index in range(len(current_sy)):\n",
    "        if 'B2' in line:\n",
    "            b2_line = line_index\n",
    "    b2_position = -1\n",
    "    for item_index in range(len(current_sy[b2_line])):\n",
    "        if item == 'B2':\n",
    "            b2_position = item_index\n",
    "    \n",
    "    current_sy, current_occupation = remove_all_from_position(current_sy, b2_line, b2_position, current_occupation, train_part_length,line_lengths)\n",
    "    current_sy, current_occupation = remove_all_from_position(current_sy, b2_line, b2_position, current_occupation, train_part_length,line_lengths)\n",
    "\n",
    "\n"
   ]
  },
  {
   "cell_type": "code",
   "execution_count": 146,
   "metadata": {},
   "outputs": [
    {
     "data": {
      "text/plain": [
       "[['A1'], ['A4', 'B3', 'B2'], ['A3', 'A2'], ['B1'], [], []]"
      ]
     },
     "execution_count": 146,
     "metadata": {},
     "output_type": "execute_result"
    }
   ],
   "source": [
    "current_sy"
   ]
  },
  {
   "cell_type": "code",
   "execution_count": null,
   "metadata": {},
   "outputs": [],
   "source": []
  }
 ],
 "metadata": {
  "kernelspec": {
   "display_name": "Python 3.8.3 32-bit",
   "language": "python",
   "name": "python3"
  },
  "language_info": {
   "codemirror_mode": {
    "name": "ipython",
    "version": 3
   },
   "file_extension": ".py",
   "mimetype": "text/x-python",
   "name": "python",
   "nbconvert_exporter": "python",
   "pygments_lexer": "ipython3",
   "version": "3.8.3"
  },
  "orig_nbformat": 4,
  "vscode": {
   "interpreter": {
    "hash": "f9bc4b652b848242f69209cd0080417b2688107fd8dbea54d7ab4af63d585dd8"
   }
  }
 },
 "nbformat": 4,
 "nbformat_minor": 2
}
